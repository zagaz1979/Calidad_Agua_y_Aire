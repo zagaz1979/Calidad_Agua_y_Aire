{
 "cells": [
  {
   "cell_type": "code",
   "execution_count": 1,
   "id": "1a3e9882",
   "metadata": {},
   "outputs": [],
   "source": [
    "# Importar librerías\n",
    "import pandas as pd\n",
    "import matplotlib.pyplot as plt\n",
    "import seaborn as sns"
   ]
  },
  {
   "cell_type": "code",
   "execution_count": 2,
   "id": "e9e4a7fc",
   "metadata": {},
   "outputs": [],
   "source": [
    "# Configurar estilo visual\n",
    "sns.set_theme(style=\"whitegrid\")"
   ]
  },
  {
   "cell_type": "code",
   "execution_count": 3,
   "id": "ee316c8f",
   "metadata": {},
   "outputs": [],
   "source": [
    "# Cargar dataset filtrado de calidad del agua\n",
    "df_agua = pd.read_csv('../datos/agua_filtrada_caribe.csv')"
   ]
  },
  {
   "cell_type": "code",
   "execution_count": null,
   "id": "ba090ad0",
   "metadata": {},
   "outputs": [],
   "source": [
    "df_agua.info()"
   ]
  },
  {
   "cell_type": "code",
   "execution_count": null,
   "id": "20e87ea6",
   "metadata": {},
   "outputs": [],
   "source": [
    "df_agua.isnull().sum()"
   ]
  },
  {
   "cell_type": "code",
   "execution_count": null,
   "id": "ff16525f",
   "metadata": {},
   "outputs": [],
   "source": [
    "df_agua.nunique()"
   ]
  },
  {
   "cell_type": "code",
   "execution_count": null,
   "id": "e9a9375c",
   "metadata": {},
   "outputs": [],
   "source": [
    "# Verificar columnas\n",
    "print(\"Columnas disponibles:\", df_agua.columns)\n",
    "print(\"\\n-------------------------------------------------------------------------------\")\n",
    "print(df_agua.head())"
   ]
  },
  {
   "cell_type": "code",
   "execution_count": null,
   "id": "cba6451d",
   "metadata": {},
   "outputs": [],
   "source": [
    "# Asegurarse de que IRCA esté presente\n",
    "if 'irca' not in df_agua.columns:\n",
    "    raise ValueError(\"La columna 'IRCA' no está en el dataset. Revisa el nombre exacto.\")\n",
    "else:\n",
    "    print(\"La columna IRCA se encuentra en el dataset\")\n"
   ]
  },
  {
   "cell_type": "code",
   "execution_count": null,
   "id": "00319d0f",
   "metadata": {},
   "outputs": [],
   "source": [
    "df_agua['irca'].unique()"
   ]
  },
  {
   "cell_type": "code",
   "execution_count": null,
   "id": "c7ca6e3d",
   "metadata": {},
   "outputs": [],
   "source": [
    "df_agua['nivel_riesgo_rural'].unique()"
   ]
  },
  {
   "cell_type": "code",
   "execution_count": null,
   "id": "bf4bc99c",
   "metadata": {},
   "outputs": [],
   "source": [
    "df_agua['nivel_riesgo_urbano'].unique()"
   ]
  },
  {
   "cell_type": "code",
   "execution_count": null,
   "id": "94620046",
   "metadata": {},
   "outputs": [],
   "source": [
    "# Ver distribución de IRCA por año y departamento\n",
    "plt.figure(figsize=(10, 6))\n",
    "sns.boxplot(data=df_agua, x='anio', y='irca', hue='departamento')\n",
    "plt.title('Distribución del IRCA por Año y Departamento')\n",
    "plt.ylabel('IRCA (%)')\n",
    "plt.xticks(rotation=45)\n",
    "plt.legend(title='Departamento')\n",
    "plt.tight_layout()\n",
    "plt.show()"
   ]
  },
  {
   "cell_type": "code",
   "execution_count": null,
   "id": "f0815120",
   "metadata": {},
   "outputs": [],
   "source": [
    "# Evolución del IRCA promedio por departamento\n",
    "df_irca_anual = df_agua.groupby(['anio', 'departamento'])['irca'].mean().reset_index()\n",
    "\n",
    "plt.figure(figsize=(10, 6))\n",
    "sns.lineplot(data=df_irca_anual, x='anio', y='irca', hue='departamento', marker='o')\n",
    "plt.title('Evolución Promedio del IRCA por Departamento (2007–2023)')\n",
    "plt.ylabel('IRCA Promedio (%)')\n",
    "plt.xticks(rotation=45)\n",
    "plt.tight_layout()\n",
    "plt.show()"
   ]
  },
  {
   "cell_type": "code",
   "execution_count": null,
   "id": "7d0add27",
   "metadata": {},
   "outputs": [],
   "source": [
    "# Clasificación de riesgo según IRCA\n",
    "def clasificar_irca(valor):\n",
    "    if valor <= 5:\n",
    "        return 'Sin Riesgo'\n",
    "    elif valor <= 14:\n",
    "        return 'Riesgo Bajo'\n",
    "    elif valor <= 35:\n",
    "        return 'Riesgo Medio'\n",
    "    elif valor <= 80:\n",
    "        return 'Riesgo Alto'\n",
    "    else:\n",
    "        return 'Riesgo Invial'\n",
    "\n",
    "df_agua['CLASIFICACION_IRCA'] = df_agua['irca'].apply(clasificar_irca)\n",
    "df_agua.head()"
   ]
  },
  {
   "cell_type": "code",
   "execution_count": null,
   "id": "b319ad57",
   "metadata": {},
   "outputs": [],
   "source": [
    "# Conteo por clasificación\n",
    "plt.figure(figsize=(10, 5))\n",
    "sns.countplot(data=df_agua, x='CLASIFICACION_IRCA', order=['Sin Riesgo', 'Riesgo Bajo', 'Riesgo Medio', 'Riesgo Alto', 'Riesgo Invial'], hue='departamento')\n",
    "plt.title('Clasificación del IRCA por Departamento')\n",
    "plt.ylabel('Número de registros')\n",
    "plt.tight_layout()\n",
    "plt.show()"
   ]
  },
  {
   "cell_type": "code",
   "execution_count": null,
   "id": "f602af6e",
   "metadata": {},
   "outputs": [],
   "source": [
    "# IRCA promedio por municipio (top 10 peores)\n",
    "df_municipios_irca = df_agua.groupby('municipio')['irca'].mean().reset_index()\n",
    "df_municipios_irca = df_municipios_irca.sort_values(by='irca', ascending=False).head(10)\n",
    "\n",
    "plt.figure(figsize=(10, 6))\n",
    "sns.barplot(data=df_municipios_irca, x='irca', y='municipio', palette='Reds_r')\n",
    "plt.title('Top 10 Municipios con Peor Calidad de Agua (IRCA Promedio)')\n",
    "plt.xlabel('IRCA Promedio (%)')\n",
    "plt.tight_layout()\n",
    "plt.show()\n"
   ]
  }
 ],
 "metadata": {
  "kernelspec": {
   "display_name": "Proyecto_calidad_ambiental-MlAKO3s6",
   "language": "python",
   "name": "python3"
  },
  "language_info": {
   "codemirror_mode": {
    "name": "ipython",
    "version": 3
   },
   "file_extension": ".py",
   "mimetype": "text/x-python",
   "name": "python",
   "nbconvert_exporter": "python",
   "pygments_lexer": "ipython3",
   "version": "3.11.2"
  }
 },
 "nbformat": 4,
 "nbformat_minor": 5
}
